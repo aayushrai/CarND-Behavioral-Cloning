{
 "cells": [
  {
   "cell_type": "code",
   "execution_count": 1,
   "metadata": {},
   "outputs": [
    {
     "name": "stderr",
     "output_type": "stream",
     "text": [
      "Using TensorFlow backend.\n"
     ]
    }
   ],
   "source": [
    "#importing all the libraries\n",
    "import os\n",
    "import csv\n",
    "import sklearn\n",
    "from sklearn.model_selection import train_test_split\n",
    "import matplotlib.pyplot as plt\n",
    "import matplotlib.image as mpimg\n",
    "import numpy as np\n",
    "\n",
    "from keras.models import Sequential\n",
    "from keras.layers import Conv2D, MaxPooling2D, Flatten, Dense, Dropout, Lambda, Cropping2D\n",
    "from keras.callbacks import ModelCheckpoint, EarlyStopping, ReduceLROnPlateau"
   ]
  },
  {
   "cell_type": "code",
   "execution_count": 2,
   "metadata": {},
   "outputs": [],
   "source": [
    "samples = []\n",
    "batch_size=64 # 32\n",
    "correction = 0.2 # this is a parameter to tune\n",
    "\n",
    "with open('challenge_data/driving_log.csv') as csvfile:\n",
    "    reader = csv.reader(csvfile)\n",
    "    next(reader, None)\n",
    "    for line in reader:\n",
    "        samples.append(line)"
   ]
  },
  {
   "cell_type": "code",
   "execution_count": 8,
   "metadata": {},
   "outputs": [],
   "source": [
    "def generator(samples, batch_size):\n",
    "    num_samples = len(samples)\n",
    "    while 1: # Loop forever so the generator never terminates\n",
    "        sklearn.utils.shuffle(samples)\n",
    "        for offset in range(0, num_samples, batch_size):\n",
    "            batch_samples = samples[offset:offset+batch_size]\n",
    "\n",
    "            images = []\n",
    "            angles = []\n",
    "            for batch_sample in batch_samples:\n",
    "                \n",
    "                #for center image\n",
    "                name_c = 'challenge_data/IMG/'+ batch_sample[0].split('\\\\')[-1]\n",
    "                center_image = mpimg.imread(name_c)\n",
    "                center_angle = float(batch_sample[3])             \n",
    "                images.append(center_image)\n",
    "                angles.append(center_angle)\n",
    "                \n",
    "                #for left image\n",
    "                name_l = 'challenge_data/IMG/'+ batch_sample[1].split('\\\\')[-1]\n",
    "                left_image = mpimg.imread(name_l)\n",
    "                images.append(left_image)\n",
    "                left_angle = center_angle + correction\n",
    "                angles.append(left_angle)\n",
    "                \n",
    "                #for right image\n",
    "                name_r = 'challenge_data/IMG/'+ batch_sample[2].split('\\\\')[-1]\n",
    "                right_image = mpimg.imread(name_r)\n",
    "                images.append(right_image)\n",
    "                right_angle = center_angle - correction\n",
    "                angles.append(right_angle)\n",
    "\n",
    "            # trim image to only see section with road\n",
    "            X_train = np.array(images)\n",
    "            y_train = np.array(angles)\n",
    "            yield sklearn.utils.shuffle(X_train, y_train)"
   ]
  },
  {
   "cell_type": "code",
   "execution_count": 9,
   "metadata": {},
   "outputs": [],
   "source": [
    "train_samples, validation_samples = train_test_split(samples, test_size=0.2)\n",
    "\n",
    "# compile and train the model using the generator function\n",
    "train_generator = generator(train_samples, batch_size=batch_size)\n",
    "validation_generator = generator(validation_samples, batch_size=batch_size)"
   ]
  },
  {
   "cell_type": "code",
   "execution_count": 10,
   "metadata": {},
   "outputs": [
    {
     "name": "stdout",
     "output_type": "stream",
     "text": [
      "_________________________________________________________________\n",
      "Layer (type)                 Output Shape              Param #   \n",
      "=================================================================\n",
      "lambda_2 (Lambda)            (None, 160, 320, 3)       0         \n",
      "_________________________________________________________________\n",
      "cropping2d_2 (Cropping2D)    (None, 65, 320, 3)        0         \n",
      "_________________________________________________________________\n",
      "conv2d_3 (Conv2D)            (None, 31, 158, 32)       2432      \n",
      "_________________________________________________________________\n",
      "max_pooling2d_3 (MaxPooling2 (None, 15, 79, 32)        0         \n",
      "_________________________________________________________________\n",
      "dropout_4 (Dropout)          (None, 15, 79, 32)        0         \n",
      "_________________________________________________________________\n",
      "conv2d_4 (Conv2D)            (None, 6, 38, 32)         25632     \n",
      "_________________________________________________________________\n",
      "max_pooling2d_4 (MaxPooling2 (None, 3, 19, 32)         0         \n",
      "_________________________________________________________________\n",
      "dropout_5 (Dropout)          (None, 3, 19, 32)         0         \n",
      "_________________________________________________________________\n",
      "flatten_2 (Flatten)          (None, 1824)              0         \n",
      "_________________________________________________________________\n",
      "dense_4 (Dense)              (None, 32)                58400     \n",
      "_________________________________________________________________\n",
      "dropout_6 (Dropout)          (None, 32)                0         \n",
      "_________________________________________________________________\n",
      "dense_5 (Dense)              (None, 32)                1056      \n",
      "_________________________________________________________________\n",
      "dense_6 (Dense)              (None, 1)                 33        \n",
      "=================================================================\n",
      "Total params: 87,553\n",
      "Trainable params: 87,553\n",
      "Non-trainable params: 0\n",
      "_________________________________________________________________\n"
     ]
    }
   ],
   "source": [
    "model = Sequential()\n",
    "\n",
    "model.add(Lambda(lambda x:x/255.0 - 0.5, input_shape=(160,320,3)))\n",
    "model.add(Cropping2D(cropping=((70,25), (0,0))))\n",
    "\n",
    "model.add(Conv2D(32, (5,5), strides=2, activation='relu'))\n",
    "model.add(MaxPooling2D())\n",
    "model.add(Dropout(rate=0.3))\n",
    "\n",
    "model.add(Conv2D(32, (5,5), strides=2, activation='relu'))\n",
    "model.add(MaxPooling2D())\n",
    "model.add(Dropout(rate=0.3))  # no dropout\n",
    "\n",
    "model.add(Flatten())\n",
    "\n",
    "model.add(Dense(32, activation='relu'))\n",
    "model.add(Dropout(rate=0.3))\n",
    "model.add(Dense(32, activation='relu'))  #dense(16)\n",
    "model.add(Dense(1))\n",
    "\n",
    "model.summary()\n"
   ]
  },
  {
   "cell_type": "code",
   "execution_count": 11,
   "metadata": {},
   "outputs": [
    {
     "name": "stdout",
     "output_type": "stream",
     "text": [
      "Epoch 1/10\n",
      "57/57 [==============================] - 105s 2s/step - loss: 0.1482 - val_loss: 0.1188\n",
      "\n",
      "Epoch 00001: val_loss improved from inf to 0.11881, saving model to challenge_data/model.h5\n",
      "Epoch 2/10\n",
      "57/57 [==============================] - 108s 2s/step - loss: 0.1237 - val_loss: 0.1114\n",
      "\n",
      "Epoch 00002: val_loss improved from 0.11881 to 0.11143, saving model to challenge_data/model.h5\n",
      "Epoch 3/10\n",
      "57/57 [==============================] - 109s 2s/step - loss: 0.1174 - val_loss: 0.1103\n",
      "\n",
      "Epoch 00003: val_loss improved from 0.11143 to 0.11034, saving model to challenge_data/model.h5\n",
      "Epoch 4/10\n",
      "57/57 [==============================] - 109s 2s/step - loss: 0.1128 - val_loss: 0.1085\n",
      "\n",
      "Epoch 00004: val_loss improved from 0.11034 to 0.10852, saving model to challenge_data/model.h5\n",
      "Epoch 5/10\n",
      "57/57 [==============================] - 109s 2s/step - loss: 0.1097 - val_loss: 0.1097\n",
      "\n",
      "Epoch 00005: val_loss did not improve from 0.10852\n",
      "Epoch 6/10\n",
      "57/57 [==============================] - 109s 2s/step - loss: 0.1073 - val_loss: 0.1088\n",
      "\n",
      "Epoch 00006: val_loss did not improve from 0.10852\n",
      "Epoch 7/10\n",
      "57/57 [==============================] - 109s 2s/step - loss: 0.1043 - val_loss: 0.1073\n",
      "\n",
      "Epoch 00007: val_loss improved from 0.10852 to 0.10733, saving model to challenge_data/model.h5\n",
      "Epoch 8/10\n",
      "57/57 [==============================] - 110s 2s/step - loss: 0.1047 - val_loss: 0.1049\n",
      "\n",
      "Epoch 00008: val_loss improved from 0.10733 to 0.10489, saving model to challenge_data/model.h5\n",
      "Epoch 9/10\n",
      "57/57 [==============================] - 109s 2s/step - loss: 0.1024 - val_loss: 0.1041\n",
      "\n",
      "Epoch 00009: val_loss improved from 0.10489 to 0.10408, saving model to challenge_data/model.h5\n",
      "Epoch 10/10\n",
      "57/57 [==============================] - 110s 2s/step - loss: 0.1018 - val_loss: 0.1024\n",
      "\n",
      "Epoch 00010: val_loss improved from 0.10408 to 0.10235, saving model to challenge_data/model.h5\n"
     ]
    }
   ],
   "source": [
    "checkpoint = ModelCheckpoint(\"challenge_data/model.h5\", monitor=\"val_loss\", mode=\"min\", save_best_only = True, verbose=1)\n",
    "\n",
    "earlystop = EarlyStopping(monitor = 'val_loss', min_delta = 0, patience = 3, verbose = 1, restore_best_weights = True)\n",
    "\n",
    "reduce_lr = ReduceLROnPlateau(monitor = 'val_loss', factor = 0.2, patience = 3, verbose = 1, min_delta = 0.0001)\n",
    "\n",
    "callbacks = [earlystop, checkpoint, reduce_lr]\n",
    "\n",
    "model.compile(loss='mse', optimizer='adam')\n",
    "hh = model.fit_generator(train_generator, steps_per_epoch=np.ceil(len(train_samples)/batch_size),\n",
    "                    validation_data=validation_generator,validation_steps=np.ceil(len(validation_samples)/batch_size),\n",
    "                    callbacks=callbacks, epochs=10, verbose=1)"
   ]
  },
  {
   "cell_type": "code",
   "execution_count": 12,
   "metadata": {},
   "outputs": [
    {
     "data": {
      "image/png": "[encoded data removed]",
      "text/plain": [
       "<matplotlib.figure.Figure at 0x2001fd68>"
      ]
     },
     "metadata": {},
     "output_type": "display_data"
    }
   ],
   "source": [
    "import matplotlib.pyplot as plt\n",
    "# Plot training & validation loss values\n",
    "plt.plot(hh.history['loss'])\n",
    "plt.plot(hh.history['val_loss'])\n",
    "plt.title('Model loss')\n",
    "plt.ylabel('Loss')\n",
    "plt.xlabel('Epoch')\n",
    "plt.legend(['Train', 'Test'], loc='upper left')\n",
    "plt.show()"
   ]
  },
  {
   "cell_type": "code",
   "execution_count": null,
   "metadata": {},
   "outputs": [],
   "source": []
  }
 ],
 "metadata": {
  "kernelspec": {
   "display_name": "Python [conda env:Anaconda3]",
   "language": "python",
   "name": "conda-env-Anaconda3-py"
  },
  "language_info": {
   "codemirror_mode": {
    "name": "ipython",
    "version": 3
   },
   "file_extension": ".py",
   "mimetype": "text/x-python",
   "name": "python",
   "nbconvert_exporter": "python",
   "pygments_lexer": "ipython3",
   "version": "3.6.6"
  }
 },
 "nbformat": 4,
 "nbformat_minor": 2
}
