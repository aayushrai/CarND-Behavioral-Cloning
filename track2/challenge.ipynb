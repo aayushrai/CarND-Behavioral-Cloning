{
 "cells": [
  {
   "cell_type": "code",
   "execution_count": 1,
   "metadata": {},
   "outputs": [
    {
     "name": "stderr",
     "output_type": "stream",
     "text": [
      "Using TensorFlow backend.\n"
     ]
    }
   ],
   "source": [
    "#importing all the libraries\n",
    "import os\n",
    "import csv\n",
    "import sklearn\n",
    "from sklearn.model_selection import train_test_split\n",
    "import matplotlib.pyplot as plt\n",
    "import matplotlib.image as mpimg\n",
    "import numpy as np\n",
    "\n",
    "from keras.models import Sequential\n",
    "from keras.layers import Conv2D, MaxPooling2D, Flatten, Dense, Dropout, Lambda, Cropping2D\n",
    "from keras.callbacks import ModelCheckpoint, EarlyStopping, ReduceLROnPlateau"
   ]
  },
  {
   "cell_type": "code",
   "execution_count": 2,
   "metadata": {},
   "outputs": [],
   "source": [
    "samples = []\n",
    "batch_size = 64\n",
    "correction = 0.2 # this is a parameter to tune\n",
    "\n",
    "with open('challenge_data/driving_log.csv') as csvfile:\n",
    "    reader = csv.reader(csvfile)\n",
    "    next(reader, None)\n",
    "    for line in reader:\n",
    "        samples.append(line)"
   ]
  },
  {
   "cell_type": "code",
   "execution_count": 4,
   "metadata": {},
   "outputs": [],
   "source": [
    "def generator(samples, batch_size):\n",
    "    num_samples = len(samples)\n",
    "    while 1: # Loop forever so the generator never terminates\n",
    "        sklearn.utils.shuffle(samples)\n",
    "        for offset in range(0, num_samples, batch_size):\n",
    "            batch_samples = samples[offset:offset+batch_size]\n",
    "\n",
    "            images = []\n",
    "            angles = []\n",
    "            for batch_sample in batch_samples:\n",
    "                \n",
    "                #for center image\n",
    "                name_c = 'challenge_data/IMG/'+ batch_sample[0].split('\\\\')[-1]\n",
    "                center_image = mpimg.imread(name_c)\n",
    "                center_angle = float(batch_sample[3])             \n",
    "                images.append(center_image)\n",
    "                angles.append(center_angle)\n",
    "                \n",
    "                #for left image\n",
    "                name_l = 'challenge_data/IMG/'+ batch_sample[1].split('\\\\')[-1]\n",
    "                left_image = mpimg.imread(name_l)\n",
    "                images.append(left_image)\n",
    "                left_angle = center_angle + correction\n",
    "                angles.append(left_angle)\n",
    "                \n",
    "                #for right image\n",
    "                name_r = 'challenge_data/IMG/'+ batch_sample[2].split('\\\\')[-1]\n",
    "                right_image = mpimg.imread(name_r)\n",
    "                images.append(right_image)\n",
    "                right_angle = center_angle - correction\n",
    "                angles.append(right_angle)\n",
    "\n",
    "            # trim image to only see section with road\n",
    "            X_train = np.array(images)\n",
    "            y_train = np.array(angles)\n",
    "            yield sklearn.utils.shuffle(X_train, y_train)"
   ]
  },
  {
   "cell_type": "code",
   "execution_count": 5,
   "metadata": {},
   "outputs": [],
   "source": [
    "train_samples, validation_samples = train_test_split(samples, test_size=0.2)\n",
    "\n",
    "# compile and train the model using the generator function\n",
    "train_generator = generator(train_samples, batch_size=batch_size)\n",
    "validation_generator = generator(validation_samples, batch_size=batch_size)"
   ]
  },
  {
   "cell_type": "code",
   "execution_count": 6,
   "metadata": {},
   "outputs": [
    {
     "name": "stdout",
     "output_type": "stream",
     "text": [
      "WARNING:tensorflow:From /home/ubuntu/anaconda3/envs/tensorflow_p36/lib/python3.6/site-packages/tensorflow/python/framework/op_def_library.py:263: colocate_with (from tensorflow.python.framework.ops) is deprecated and will be removed in a future version.\n",
      "Instructions for updating:\n",
      "Colocations handled automatically by placer.\n",
      "WARNING:tensorflow:From /home/ubuntu/anaconda3/envs/tensorflow_p36/lib/python3.6/site-packages/keras/backend/tensorflow_backend.py:3445: calling dropout (from tensorflow.python.ops.nn_ops) with keep_prob is deprecated and will be removed in a future version.\n",
      "Instructions for updating:\n",
      "Please use `rate` instead of `keep_prob`. Rate should be set to `rate = 1 - keep_prob`.\n",
      "_________________________________________________________________\n",
      "Layer (type)                 Output Shape              Param #   \n",
      "=================================================================\n",
      "lambda_1 (Lambda)            (None, 160, 320, 3)       0         \n",
      "_________________________________________________________________\n",
      "cropping2d_1 (Cropping2D)    (None, 65, 320, 3)        0         \n",
      "_________________________________________________________________\n",
      "conv2d_1 (Conv2D)            (None, 31, 158, 32)       2432      \n",
      "_________________________________________________________________\n",
      "max_pooling2d_1 (MaxPooling2 (None, 15, 79, 32)        0         \n",
      "_________________________________________________________________\n",
      "conv2d_2 (Conv2D)            (None, 6, 38, 32)         25632     \n",
      "_________________________________________________________________\n",
      "max_pooling2d_2 (MaxPooling2 (None, 3, 19, 32)         0         \n",
      "_________________________________________________________________\n",
      "flatten_1 (Flatten)          (None, 1824)              0         \n",
      "_________________________________________________________________\n",
      "dense_1 (Dense)              (None, 32)                58400     \n",
      "_________________________________________________________________\n",
      "dropout_1 (Dropout)          (None, 32)                0         \n",
      "_________________________________________________________________\n",
      "dense_2 (Dense)              (None, 32)                1056      \n",
      "_________________________________________________________________\n",
      "dense_3 (Dense)              (None, 1)                 33        \n",
      "=================================================================\n",
      "Total params: 87,553\n",
      "Trainable params: 87,553\n",
      "Non-trainable params: 0\n",
      "_________________________________________________________________\n"
     ]
    }
   ],
   "source": [
    "model = Sequential()\n",
    "\n",
    "model.add(Lambda(lambda x:x/255.0 - 0.5, input_shape=(160,320,3)))\n",
    "model.add(Cropping2D(cropping=((70,25), (0,0))))\n",
    "\n",
    "model.add(Conv2D(32, (5,5), strides=2, activation='relu'))\n",
    "model.add(MaxPooling2D())\n",
    "\n",
    "model.add(Conv2D(32, (5,5), strides=2, activation='relu'))\n",
    "model.add(MaxPooling2D()) \n",
    "\n",
    "model.add(Flatten())\n",
    "\n",
    "model.add(Dense(32, activation='relu'))\n",
    "model.add(Dropout(rate=0.3))\n",
    "model.add(Dense(32, activation='relu')) \n",
    "model.add(Dense(1))\n",
    "\n",
    "model.summary()\n"
   ]
  },
  {
   "cell_type": "code",
   "execution_count": 7,
   "metadata": {},
   "outputs": [
    {
     "name": "stdout",
     "output_type": "stream",
     "text": [
      "WARNING:tensorflow:From /home/ubuntu/anaconda3/envs/tensorflow_p36/lib/python3.6/site-packages/tensorflow/python/ops/math_ops.py:3066: to_int32 (from tensorflow.python.ops.math_ops) is deprecated and will be removed in a future version.\n",
      "Instructions for updating:\n",
      "Use tf.cast instead.\n",
      "Epoch 1/10\n",
      "57/57 [==============================] - 31s 539ms/step - loss: 0.1420 - val_loss: 0.1151\n",
      "\n",
      "Epoch 00001: val_loss improved from inf to 0.11514, saving model to model/model1.h5\n",
      "Epoch 2/10\n",
      "57/57 [==============================] - 18s 320ms/step - loss: 0.1189 - val_loss: 0.1076\n",
      "\n",
      "Epoch 00002: val_loss improved from 0.11514 to 0.10762, saving model to model/model1.h5\n",
      "Epoch 3/10\n",
      "57/57 [==============================] - 19s 332ms/step - loss: 0.1147 - val_loss: 0.1059\n",
      "\n",
      "Epoch 00003: val_loss improved from 0.10762 to 0.10592, saving model to model/model1.h5\n",
      "Epoch 4/10\n",
      "57/57 [==============================] - 19s 334ms/step - loss: 0.1094 - val_loss: 0.1059\n",
      "\n",
      "Epoch 00004: val_loss improved from 0.10592 to 0.10591, saving model to model/model1.h5\n",
      "Epoch 5/10\n",
      "57/57 [==============================] - 19s 333ms/step - loss: 0.1067 - val_loss: 0.1031\n",
      "\n",
      "Epoch 00005: val_loss improved from 0.10591 to 0.10313, saving model to model/model1.h5\n",
      "Epoch 6/10\n",
      "57/57 [==============================] - 19s 337ms/step - loss: 0.1021 - val_loss: 0.1007\n",
      "\n",
      "Epoch 00006: val_loss improved from 0.10313 to 0.10074, saving model to model/model1.h5\n",
      "Epoch 7/10\n",
      "57/57 [==============================] - 19s 331ms/step - loss: 0.0996 - val_loss: 0.1014\n",
      "\n",
      "Epoch 00007: val_loss did not improve from 0.10074\n",
      "Epoch 8/10\n",
      "57/57 [==============================] - 19s 329ms/step - loss: 0.0961 - val_loss: 0.0990\n",
      "\n",
      "Epoch 00008: val_loss improved from 0.10074 to 0.09901, saving model to model/model1.h5\n",
      "Epoch 9/10\n",
      "57/57 [==============================] - 19s 331ms/step - loss: 0.0944 - val_loss: 0.1013\n",
      "\n",
      "Epoch 00009: val_loss did not improve from 0.09901\n",
      "Epoch 10/10\n",
      "57/57 [==============================] - 19s 339ms/step - loss: 0.0899 - val_loss: 0.0985\n",
      "\n",
      "Epoch 00010: val_loss improved from 0.09901 to 0.09846, saving model to model/model1.h5\n"
     ]
    }
   ],
   "source": [
    "checkpoint = ModelCheckpoint(\"model1.h5\", monitor=\"val_loss\", mode=\"min\", save_best_only = True, verbose=1)\n",
    "\n",
    "earlystop = EarlyStopping(monitor = 'val_loss', min_delta = 0, patience = 3, verbose = 1, restore_best_weights = True)\n",
    "\n",
    "reduce_lr = ReduceLROnPlateau(monitor = 'val_loss', factor = 0.2, patience = 3, verbose = 1, min_delta = 0.0001)\n",
    "\n",
    "callbacks = [earlystop, checkpoint, reduce_lr]\n",
    "\n",
    "model.compile(loss='mse', optimizer='adam')\n",
    "hh = model.fit_generator(train_generator, steps_per_epoch=np.ceil(len(train_samples)/batch_size),\n",
    "                    validation_data=validation_generator,validation_steps=np.ceil(len(validation_samples)/batch_size),\n",
    "                    callbacks=callbacks, epochs=10, verbose=1)"
   ]
  },
  {
   "cell_type": "code",
   "execution_count": 8,
   "metadata": {},
   "outputs": [
    {
     "data": {
      "image/png": "[encoded data removed]",
      "text/plain": [
       "<Figure size 432x288 with 1 Axes>"
      ]
     },
     "metadata": {},
     "output_type": "display_data"
    }
   ],
   "source": [
    "import matplotlib.pyplot as plt\n",
    "# Plot training & validation loss values\n",
    "plt.plot(hh.history['loss'])\n",
    "plt.plot(hh.history['val_loss'])\n",
    "plt.title('Model loss')\n",
    "plt.ylabel('Loss')\n",
    "plt.xlabel('Epoch')\n",
    "plt.legend(['Train', 'Test'], loc='upper left')\n",
    "plt.show()"
   ]
  },
  {
   "cell_type": "code",
   "execution_count": null,
   "metadata": {},
   "outputs": [],
   "source": []
  }
 ],
 "metadata": {
  "kernelspec": {
   "display_name": "Environment (conda_tensorflow_p36)",
   "language": "python",
   "name": "conda_tensorflow_p36"
  },
  "language_info": {
   "codemirror_mode": {
    "name": "ipython",
    "version": 3
   },
   "file_extension": ".py",
   "mimetype": "text/x-python",
   "name": "python",
   "nbconvert_exporter": "python",
   "pygments_lexer": "ipython3",
   "version": "3.6.5"
  }
 },
 "nbformat": 4,
 "nbformat_minor": 2
}
